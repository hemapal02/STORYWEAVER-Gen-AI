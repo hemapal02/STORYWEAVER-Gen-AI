{
  "nbformat": 4,
  "nbformat_minor": 0,
  "metadata": {
    "colab": {
      "provenance": []
    },
    "kernelspec": {
      "name": "python3",
      "display_name": "Python 3"
    },
    "language_info": {
      "name": "python"
    }
  },
  "cells": [
    {
      "cell_type": "code",
      "execution_count": 1,
      "metadata": {
        "colab": {
          "base_uri": "https://localhost:8080/"
        },
        "id": "sqXVTjIriF_Y",
        "outputId": "585c1069-47e4-409a-f15c-783d9ba3789a"
      },
      "outputs": [
        {
          "output_type": "stream",
          "name": "stdout",
          "text": [
            "Requirement already satisfied: openai in /usr/local/lib/python3.11/dist-packages (1.97.0)\n",
            "Requirement already satisfied: anyio<5,>=3.5.0 in /usr/local/lib/python3.11/dist-packages (from openai) (4.9.0)\n",
            "Requirement already satisfied: distro<2,>=1.7.0 in /usr/local/lib/python3.11/dist-packages (from openai) (1.9.0)\n",
            "Requirement already satisfied: httpx<1,>=0.23.0 in /usr/local/lib/python3.11/dist-packages (from openai) (0.28.1)\n",
            "Requirement already satisfied: jiter<1,>=0.4.0 in /usr/local/lib/python3.11/dist-packages (from openai) (0.10.0)\n",
            "Requirement already satisfied: pydantic<3,>=1.9.0 in /usr/local/lib/python3.11/dist-packages (from openai) (2.11.7)\n",
            "Requirement already satisfied: sniffio in /usr/local/lib/python3.11/dist-packages (from openai) (1.3.1)\n",
            "Requirement already satisfied: tqdm>4 in /usr/local/lib/python3.11/dist-packages (from openai) (4.67.1)\n",
            "Requirement already satisfied: typing-extensions<5,>=4.11 in /usr/local/lib/python3.11/dist-packages (from openai) (4.14.1)\n",
            "Requirement already satisfied: idna>=2.8 in /usr/local/lib/python3.11/dist-packages (from anyio<5,>=3.5.0->openai) (3.10)\n",
            "Requirement already satisfied: certifi in /usr/local/lib/python3.11/dist-packages (from httpx<1,>=0.23.0->openai) (2025.7.14)\n",
            "Requirement already satisfied: httpcore==1.* in /usr/local/lib/python3.11/dist-packages (from httpx<1,>=0.23.0->openai) (1.0.9)\n",
            "Requirement already satisfied: h11>=0.16 in /usr/local/lib/python3.11/dist-packages (from httpcore==1.*->httpx<1,>=0.23.0->openai) (0.16.0)\n",
            "Requirement already satisfied: annotated-types>=0.6.0 in /usr/local/lib/python3.11/dist-packages (from pydantic<3,>=1.9.0->openai) (0.7.0)\n",
            "Requirement already satisfied: pydantic-core==2.33.2 in /usr/local/lib/python3.11/dist-packages (from pydantic<3,>=1.9.0->openai) (2.33.2)\n",
            "Requirement already satisfied: typing-inspection>=0.4.0 in /usr/local/lib/python3.11/dist-packages (from pydantic<3,>=1.9.0->openai) (0.4.1)\n"
          ]
        }
      ],
      "source": [
        "!pip install openai\n",
        "import openai\n",
        "import random\n",
        "from datetime import datetime\n"
      ]
    },
    {
      "cell_type": "code",
      "source": [
        "OPENAI_API_KEY = \"your-api-key-here\"\n",
        "client = openai.OpenAI(api_key=OPENAI_API_KEY)\n",
        "\n",
        "print(\" OpenAI API configured!\")\n"
      ],
      "metadata": {
        "colab": {
          "base_uri": "https://localhost:8080/"
        },
        "id": "bpSOf9MEioSy",
        "outputId": "ceb15bd8-f80c-48c0-d4c6-c5f434d65374"
      },
      "execution_count": 2,
      "outputs": [
        {
          "output_type": "stream",
          "name": "stdout",
          "text": [
            " OpenAI API configured!\n"
          ]
        }
      ]
    },
    {
      "cell_type": "code",
      "source": [
        "def generate_story(character=\"a brave little mouse\", setting=\"enchanted garden\", theme=\"courage\", length=\"short\"):\n",
        "    \"\"\"\n",
        "    This function generates a children's story using OpenAI's GPT model.\n",
        "\n",
        "    Parameters:\n",
        "    - character: The main character of the story\n",
        "    - setting: Where the story takes place\n",
        "    - theme: The main lesson or theme of the story\n",
        "    - length: How long the story should be (\"short\", \"medium\", or \"long\")\n",
        "\n",
        "    Returns:\n",
        "    - A generated story as a string\n",
        "    \"\"\"\n",
        "\n",
        "\n",
        "    length_specs = {\n",
        "        \"short\": \"100-150 words\",\n",
        "        \"medium\": \"200-300 words\",\n",
        "        \"long\": \"400-500 words\"\n",
        "    }\n",
        "\n",
        "\n",
        "    prompt = f\"\"\"\n",
        "    Write a heartwarming children's story with these elements:\n",
        "\n",
        "    Main Character: {character}\n",
        "    Setting: {setting}\n",
        "    Theme/Lesson: {theme}\n",
        "    Length: {length_specs.get(length, \"100-150 words\")}\n",
        "\n",
        "    Requirements:\n",
        "    - Age-appropriate for children (5-10 years old)\n",
        "    - Include dialogue to make it engaging\n",
        "    - Have a clear beginning, middle, and end\n",
        "    - End with a positive message about {theme}\n",
        "    - Use simple, vivid language that children can understand\n",
        "    - Make it fun and imaginative!\n",
        "\n",
        "    Story:\n",
        "    \"\"\"\n",
        "\n",
        "    try:\n",
        "\n",
        "        print(\" Generating your story... This might take a few seconds!\")\n",
        "\n",
        "        response = client.chat.completions.create(\n",
        "            model=\"gpt-3.5-turbo\",  # You can also use \"gpt-4\" for better quality\n",
        "            messages=[\n",
        "                {\"role\": \"system\", \"content\": \"You are a creative children's book author who writes engaging, educational, and fun stories for kids.\"},\n",
        "                {\"role\": \"user\", \"content\": prompt}\n",
        "            ],\n",
        "            max_tokens=800,  # Maximum length of the response\n",
        "            temperature=0.8,  # Controls creativity (0.0 = very focused, 1.0 = very creative)\n",
        "        )\n",
        "\n",
        "\n",
        "        story = response.choices[0].message.content.strip()\n",
        "        return story\n",
        "\n",
        "    except Exception as e:\n",
        "        return f\"Oops! Something went wrong: {e}\\nPlease check your API key and try again.\"\n"
      ],
      "metadata": {
        "id": "nPIW07hqjR1-"
      },
      "execution_count": 3,
      "outputs": []
    },
    {
      "cell_type": "code",
      "source": [
        "def create_story():\n",
        "    \"\"\"\n",
        "    This function provides an interactive way for users to create stories.\n",
        "    It asks for inputs and generates a custom story.\n",
        "    \"\"\"\n",
        "\n",
        "    print(\"\\n\" + \"=\"*50)\n",
        "    print(\" Welcome to StoryWeaver! \")\n",
        "    print(\"Let's create a magical story together!\")\n",
        "    print(\"=\"*50)\n",
        "\n",
        "\n",
        "    print(\"\\n Tell me about your story:\")\n",
        "\n",
        "\n",
        "    character = input(\"Who is your main character? (e.g., 'Bella the butterfly', 'Max the dragon'): \").strip()\n",
        "    if not character:\n",
        "        character = \"a curious little rabbit\"\n",
        "        print(f\"   Using default character: {character}\")\n",
        "\n",
        "\n",
        "    setting = input(\"Where does the story happen? (e.g., 'underwater kingdom', 'space station'): \").strip()\n",
        "    if not setting:\n",
        "        setting = \"a magical forest\"\n",
        "        print(f\"   Using default setting: {setting}\")\n",
        "\n",
        "\n",
        "    print(\"\\nWhat lesson should the story teach? Choose a number:\")\n",
        "    themes = [\"friendship\", \"courage\", \"kindness\", \"honesty\", \"perseverance\", \"sharing\", \"creativity\"]\n",
        "    for i, theme in enumerate(themes, 1):\n",
        "        print(f\"   {i}. {theme.title()}\")\n",
        "\n",
        "    theme_choice = input(\"Enter number (1-7) or type your own theme: \").strip()\n",
        "\n",
        "    if theme_choice.isdigit() and 1 <= int(theme_choice) <= 7:\n",
        "        theme = themes[int(theme_choice) - 1]\n",
        "    elif theme_choice:\n",
        "        theme = theme_choice\n",
        "    else:\n",
        "        theme = \"friendship\"\n",
        "        print(f\"   Using default theme: {theme}\")\n",
        "\n",
        "\n",
        "    print(\"\\nHow long should the story be?\")\n",
        "    print(\"   1. Short (100-150 words)\")\n",
        "    print(\"   2. Medium (200-300 words)\")\n",
        "    print(\"   3. Long (400-500 words)\")\n",
        "\n",
        "    length_choice = input(\"Enter number (1-3): \").strip()\n",
        "    length_options = {\"1\": \"short\", \"2\": \"medium\", \"3\": \"long\"}\n",
        "    length = length_options.get(length_choice, \"short\")\n",
        "\n",
        "    print(f\"\\n Creating a {length} story about {character} in {setting}, teaching about {theme}...\")\n",
        "\n",
        "\n",
        "    story = generate_story(character, setting, theme, length)\n",
        "\n",
        "\n",
        "    print(\"\\n\" + \"=\"*60)\n",
        "    print(\" YOUR STORY IS READY! \")\n",
        "    print(\"=\"*60)\n",
        "    print(story)\n",
        "    print(\"=\"*60)\n",
        "\n",
        "    return story\n"
      ],
      "metadata": {
        "id": "Km8owJJbjrpd"
      },
      "execution_count": 4,
      "outputs": []
    },
    {
      "cell_type": "code",
      "source": [
        "def generate_sample_story():\n",
        "    \"\"\"\n",
        "    Generates a quick sample story to test if everything is working.\n",
        "    \"\"\"\n",
        "    print(\" Testing StoryWeaver with a sample story...\")\n",
        "\n",
        "    sample_story = generate_story(\n",
        "        character=\"Oliver the owl\",\n",
        "        setting=\"moonlit library\",\n",
        "        theme=\"learning\",\n",
        "        length=\"short\"\n",
        "    )\n",
        "\n",
        "    print(\"\\n Sample Story:\")\n",
        "    print(\"-\" * 40)\n",
        "    print(sample_story)\n",
        "    print(\"-\" * 40)"
      ],
      "metadata": {
        "id": "7eDrwMHokQHI"
      },
      "execution_count": 5,
      "outputs": []
    },
    {
      "cell_type": "code",
      "source": [
        "def generate_story_collection(num_stories=3):\n",
        "    \"\"\"\n",
        "    Generates multiple stories with random elements - great for inspiration!\n",
        "    \"\"\"\n",
        "\n",
        "\n",
        "    characters = [\n",
        "        \"Zoe the zebra\", \"Felix the fox\", \"Luna the cat\", \"Benny the bear\",\n",
        "        \"Aria the unicorn\", \"Toby the turtle\", \"Sage the squirrel\", \"Ruby the robot\"\n",
        "    ]\n",
        "\n",
        "    settings = [\n",
        "        \"enchanted forest\", \"underwater castle\", \"floating cloud city\", \"crystal cave\",\n",
        "        \"sunny meadow\", \"bustling ant hill\", \"cozy treehouse\", \"magical library\"\n",
        "    ]\n",
        "\n",
        "    themes = [\n",
        "        \"friendship\", \"courage\", \"kindness\", \"creativity\", \"honesty\",\n",
        "        \"sharing\", \"perseverance\", \"helping others\"\n",
        "    ]\n",
        "\n",
        "    print(f\" Generating {num_stories} random stories for you!\")\n",
        "\n",
        "    stories = []\n",
        "    for i in range(num_stories):\n",
        "        character = random.choice(characters)\n",
        "        setting = random.choice(settings)\n",
        "        theme = random.choice(themes)\n",
        "\n",
        "        print(f\"\\n Story {i+1}: {character} in {setting} (theme: {theme})\")\n",
        "\n",
        "        story = generate_story(character, setting, theme, \"short\")\n",
        "        stories.append({\n",
        "            'character': character,\n",
        "            'setting': setting,\n",
        "            'theme': theme,\n",
        "            'story': story\n",
        "        })\n",
        "\n",
        "        print(\" Generated!\")\n",
        "\n",
        "    return stories"
      ],
      "metadata": {
        "id": "4pJVFlHOlFue"
      },
      "execution_count": 8,
      "outputs": []
    }
  ]
}